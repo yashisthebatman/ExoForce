{
 "cells": [
  {
   "cell_type": "raw",
   "id": "e0b6a4d2-8b47-495b-86aa-b82ab49ec12e",
   "metadata": {},
   "source": [
    "Initial Setup"
   ]
  },
  {
   "cell_type": "code",
   "execution_count": 2,
   "id": "3a4d8967-1ce0-400e-8261-139d1c6f9687",
   "metadata": {},
   "outputs": [
    {
     "name": "stdout",
     "output_type": "stream",
     "text": [
      "--- Successfully loaded all three datasets ---\n",
      "KOI Dataset Shape: (9564, 49)\n",
      "TOI Dataset Shape: (7668, 65)\n",
      "K2 Dataset Shape: (3992, 94)\n"
     ]
    }
   ],
   "source": [
    "import pandas as pd\n",
    "import numpy as np\n",
    "import matplotlib.pyplot as plt\n",
    "import seaborn as sns\n",
    "\n",
    "# Define the data path\n",
    "data_path = '../data/'\n",
    "\n",
    "try:\n",
    "    # Use the 'comment' parameter to skip metadata lines starting with '#'\n",
    "    df_koi = pd.read_csv(f'{data_path}KOI.csv', comment='#')\n",
    "    df_toi = pd.read_csv(f'{data_path}TOI.csv', comment='#')\n",
    "    df_k2 = pd.read_csv(f'{data_path}K2.csv', comment='#')\n",
    "\n",
    "    # Set visualization styles\n",
    "    sns.set_style('whitegrid')\n",
    "    plt.rcParams['figure.figsize'] = (12, 8)\n",
    "\n",
    "    print(\"--- Successfully loaded all three datasets ---\")\n",
    "    print(f\"KOI Dataset Shape: {df_koi.shape}\")\n",
    "    print(f\"TOI Dataset Shape: {df_toi.shape}\")\n",
    "    print(f\"K2 Dataset Shape: {df_k2.shape}\")\n",
    "\n",
    "except Exception as e:\n",
    "    print(f\"An unexpected error occurred: {e}\")\n",
    "    print(\"\\nIf the error persists, the issue might be more complex, such as a different comment character or a corrupted file.\")"
   ]
  },
  {
   "cell_type": "raw",
   "id": "6f253a75-30c3-4964-96c1-c6530a83fa69",
   "metadata": {},
   "source": []
  }
 ],
 "metadata": {
  "kernelspec": {
   "display_name": "Python 3 (ipykernel)",
   "language": "python",
   "name": "python3"
  },
  "language_info": {
   "codemirror_mode": {
    "name": "ipython",
    "version": 3
   },
   "file_extension": ".py",
   "mimetype": "text/x-python",
   "name": "python",
   "nbconvert_exporter": "python",
   "pygments_lexer": "ipython3",
   "version": "3.12.4"
  }
 },
 "nbformat": 4,
 "nbformat_minor": 5
}
